{
 "cells": [
  {
   "cell_type": "markdown",
   "metadata": {},
   "source": [
    "# RAG (Retrieval-augmented generation) ➡️ Azure CosmosDB ❤️ + ChatGPT 3.5"
   ]
  },
  {
   "cell_type": "markdown",
   "metadata": {},
   "source": [
    "### Criar um grupo de recurso\n",
    "```bash\n",
    "az login\n",
    "az group create --name {resource_group_name} --location {region_name}\n",
    "```\n",
    "### Criar uma instância do CosmosDB\n",
    "```bash\n",
    "az cosmosdb create --name {cosmosdb_account_name} --resource-group {resource_group_name} --locations regionName={region_name} --default-consistency-level Eventual --kind GlobalDocumentDB\n",
    "```\n",
    "### Habilitar o Vector Search\n",
    "```bash\n",
    " az cosmosdb update --resource-group {resource_group_name} --name {cosmosdb_account_name}  --capabilities EnableNoSQLVectorSearch\n",
    "```"
   ]
  },
  {
   "cell_type": "markdown",
   "metadata": {},
   "source": [
    "#### Dependências do projeto"
   ]
  },
  {
   "cell_type": "code",
   "execution_count": null,
   "metadata": {
    "polyglot_notebook": {
     "kernelName": "csharp"
    },
    "vscode": {
     "languageId": "polyglot-notebook"
    }
   },
   "outputs": [],
   "source": [
    "#r \"nuget:Azure.AI.OpenAI,1.0.0-beta.17\"\n",
    "#r \"nuget:Newtonsoft.Json,13.0.3\"\n",
    "#r \"nuget:Microsoft.Azure.Cosmos,3.47.0\"\n",
    "#r \"nuget:Azure.Identity,1.13.2\"\n",
    "#r \"nuget:DotNetEnv,2.5.0\"\n"
   ]
  },
  {
   "cell_type": "markdown",
   "metadata": {},
   "source": [
    "#### Bibliotecas e clientes de conexão com o CosmosDB e o Azure Open AI"
   ]
  },
  {
   "cell_type": "code",
   "execution_count": null,
   "metadata": {
    "polyglot_notebook": {
     "kernelName": "csharp"
    },
    "vscode": {
     "languageId": "polyglot-notebook"
    }
   },
   "outputs": [],
   "source": [
    "using System;\n",
    "using System.Threading.Tasks;\n",
    "using Azure.Identity;\n",
    "using Microsoft.Azure.Cosmos;\n",
    "using System.Collections.ObjectModel;\n",
    "using DotNetEnv;\n",
    "using Azure;\n",
    "using Azure.AI.OpenAI;\n",
    "\n",
    "// Carregar variáveis de ambiente do arquivo .env\n",
    "Env.Load();\n",
    "string EndpointUri = Environment.GetEnvironmentVariable(\"COSMOSDB_ENDPOINT\");\n",
    "var credential = new DefaultAzureCredential();\n",
    "var PrimaryKey = Environment.GetEnvironmentVariable(\"COSMOSDB_PRIMARY_KEY\");\n",
    "var OpenAIEndpoint = Environment.GetEnvironmentVariable(\"OPENAI_ENDPOINT\");\n",
    "var OpenAIKey = Environment.GetEnvironmentVariable(\"OPENAI_KEY\");\n",
    "var OpenAIEmbeddingEndpoint = Environment.GetEnvironmentVariable(\"OPENAI_EMBEDDING_ENDPOINT\");\n",
    "var OpenAIEmbeddingKey = Environment.GetEnvironmentVariable(\"OPENAI_EMBEDDING_KEY\");\n",
    "var cosmosClient = new CosmosClient(EndpointUri, PrimaryKey);\n",
    "var openAIClient = new OpenAIClient(new Uri(OpenAIEndpoint), new AzureKeyCredential(OpenAIKey));\n",
    "var openAIEmbeddingClient = new OpenAIClient(new Uri(OpenAIEmbeddingEndpoint), new AzureKeyCredential(OpenAIEmbeddingKey));\n",
    "    "
   ]
  },
  {
   "cell_type": "markdown",
   "metadata": {},
   "source": [
    "#### Chamada para o CHATGPT 3.5 no Azure Open AI"
   ]
  },
  {
   "cell_type": "code",
   "execution_count": null,
   "metadata": {
    "polyglot_notebook": {
     "kernelName": "csharp"
    },
    "vscode": {
     "languageId": "polyglot-notebook"
    }
   },
   "outputs": [],
   "source": [
    "string _systemPromptRecipeAssistant = @\"\n",
    "        You are an intelligent assistant for Contoso Recipes. \n",
    "        You are designed to provide helpful answers to user questions about recipes.\n",
    "  \n",
    "        Instructions:\n",
    "        - If you're unsure of an answer, you can say \"\"I don't know\"\" or \"\"I'm not sure\"\" and recommend users search themselves.        \n",
    "        - Your response  should be complete. \n",
    "        - Assume the user is not an expert in cooking.\n",
    "        - Format the content so that it can be printed to the Command Line console;\";\n",
    "\n",
    "var userPrompt = \"You serve Latin food?\";\n",
    "//userPrompt = \"Do you know how to make hamburger?\";\n",
    "//userPrompt = \"You serve spicy food\";\n",
    "\n",
    "\n",
    "var systemMessage = new ChatRequestSystemMessage(_systemPromptRecipeAssistant);\n",
    "var userMessage = new ChatRequestUserMessage(userPrompt);\n",
    "int _openAIMaxTokens = 100;\n",
    "\n",
    "ChatCompletionsOptions options = new()\n",
    "{\n",
    "    DeploymentName= \"gpt-35-turbo\",\n",
    "    Messages =\n",
    "    {\n",
    "        systemMessage,\n",
    "        userMessage\n",
    "    },\n",
    "    MaxTokens = _openAIMaxTokens,\n",
    "    //O parâmetro Temperature é usado para controlar a aleatoriedade \n",
    "    //na geração de texto por modelos de linguagem\n",
    "    Temperature = 0.5f, \n",
    "    //O NucleusSamplingFactor (também conhecido como Top-p Sampling) é um \n",
    "    //parâmetro usado para controlar a aleatoriedade na geração de texto \n",
    "    //por modelos de linguagem, como o GPT\n",
    "    NucleusSamplingFactor = 0.95f, \n",
    "    FrequencyPenalty = 0,\n",
    "    PresencePenalty = 0\n",
    "};\n",
    "\n",
    "Azure.Response<ChatCompletions> completionsResponse = await openAIClient.GetChatCompletionsAsync(options);\n",
    "\n",
    "ChatCompletions completions = completionsResponse.Value;\n",
    "\n",
    "Console.WriteLine($\"Resposta: {completions.Choices[0].Message.Content}\");\n",
    "Console.WriteLine($\"PromptTokens: {completions.Usage.PromptTokens}\");\n",
    "Console.WriteLine($\"CompletionTokens: {completions.Usage.CompletionTokens}\");"
   ]
  },
  {
   "cell_type": "markdown",
   "metadata": {},
   "source": [
    "#### Objeto de entidade que representa as Receitas"
   ]
  },
  {
   "cell_type": "code",
   "execution_count": null,
   "metadata": {
    "polyglot_notebook": {
     "kernelName": "csharp"
    },
    "vscode": {
     "languageId": "polyglot-notebook"
    }
   },
   "outputs": [],
   "source": [
    "using System;\n",
    "using System.Collections.Generic;\n",
    "using System.Linq;\n",
    "using System.Text;\n",
    "using System.Threading.Tasks;\n",
    "\n",
    "public class Recipe\n",
    "{\n",
    "\n",
    "    public string id { get; set; }\n",
    "    public string name { get; set; }\n",
    "    public string description { get; set; }\n",
    "    public List<float> vectors { get; set; }\n",
    "    public string cuisine { get; set; }\n",
    "    public string difficulty { get; set; }\n",
    "    public string prepTime { get; set; }\n",
    "    public string cookTime { get; set; }\n",
    "    public string totalTime { get; set; }\n",
    "    public int servings { get; set; }\n",
    "    public List<string> ingredients { get; set; }\n",
    "    public List<string> instructions { get; set; }\n",
    "    public float SimilarityScore {get; set;}\n",
    "\n",
    "    public string toString()\n",
    "    {\n",
    "        return $\"Recipe: {name}, Cuisine: {cuisine}, Difficulty: {difficulty}, Prep Time: {prepTime}, Cook Time: {cookTime}, Total Time: {totalTime}, Servings: {servings}, Ingredients: {string.Join(\", \", ingredients)}, Instructions: {string.Join(\", \", instructions)}\";\n",
    "    }\n",
    "}     \n"
   ]
  },
  {
   "cell_type": "markdown",
   "metadata": {},
   "source": [
    "#### Criar um Container (tabela) no CosmosDB\n",
    "\n",
    "[Documentação](https://learn.microsoft.com/pt-br/azure/cosmos-db/nosql/how-to-dotnet-get-started?wt.mc_id=AZ-MVP-5003638)\n",
    "\n",
    "<img src=\"https://learn.microsoft.com/pt-br/azure/cosmos-db/nosql/media/how-to-dotnet-get-started/resource-hierarchy.svg\" width=\"500\"/>"
   ]
  },
  {
   "cell_type": "code",
   "execution_count": null,
   "metadata": {
    "polyglot_notebook": {
     "kernelName": "csharp"
    },
    "vscode": {
     "languageId": "polyglot-notebook"
    }
   },
   "outputs": [],
   "source": [
    "\n",
    "Container container;\n",
    "try\n",
    "{\n",
    "    // 1000 Request Unit para o container\n",
    "    var throughputProperties = ThroughputProperties.CreateAutoscaleThroughput(1000);\n",
    "    var containerName = \"recipes\";\n",
    "\n",
    "    // Cria o banco de dados caso não exista\n",
    "    Database _database = cosmosClient.CreateDatabaseIfNotExistsAsync(\"testdb\", throughputProperties).Result;\n",
    "    \n",
    "    // Cria o container definindo as polices de indexação\n",
    "    ContainerProperties properties = new ContainerProperties(id: containerName, partitionKeyPath: \"/id\")\n",
    "    {\n",
    "        // Tempo de vida do índice para 1 dia\n",
    "        DefaultTimeToLive = 86400,\n",
    "\n",
    "        // Define o vector embedding container policy\n",
    "        VectorEmbeddingPolicy = new(\n",
    "        new Collection<Embedding>(\n",
    "            [\n",
    "                new Embedding()\n",
    "                {\n",
    "                    Path = \"/vectors\",\n",
    "                    DataType = VectorDataType.Float32,\n",
    "                    DistanceFunction = DistanceFunction.Cosine,\n",
    "                    Dimensions = 1536\n",
    "                }\n",
    "            ])),\n",
    "        IndexingPolicy = new IndexingPolicy()\n",
    "        {\n",
    "            // Define the vector index policy\n",
    "            VectorIndexes = new()\n",
    "            {\n",
    "                new VectorIndexPath()\n",
    "                {\n",
    "                    Path = \"/vectors\",\n",
    "                    Type = VectorIndexType.QuantizedFlat\n",
    "                }\n",
    "            }\n",
    "        }\n",
    "    };\n",
    "    properties.IndexingPolicy.IncludedPaths.Add(new IncludedPath { Path = \"/*\" });    \n",
    "    properties.IndexingPolicy.ExcludedPaths.Add(new ExcludedPath { Path = \"/vectors/*\" });\n",
    "    \n",
    "    // Cria o container\n",
    "    _database.CreateContainerIfNotExistsAsync(properties, throughputProperties).GetAwaiter();\n",
    "\n",
    "    container = _database.GetContainer(containerName);\n",
    "}\n",
    "catch (Exception ex)\n",
    "{\n",
    "    Console.WriteLine($\"An error occurred: {ex.Message}\");\n",
    "}"
   ]
  },
  {
   "cell_type": "markdown",
   "metadata": {},
   "source": [
    "#### Geração dos Embeddings e inserção no Azure CosmosDB "
   ]
  },
  {
   "cell_type": "code",
   "execution_count": null,
   "metadata": {
    "polyglot_notebook": {
     "kernelName": "csharp"
    },
    "vscode": {
     "languageId": "polyglot-notebook"
    }
   },
   "outputs": [],
   "source": [
    "using System.Collections.Generic;\n",
    "using System.Linq;\n",
    "using System.Text;\n",
    "using System.Threading.Tasks;\n",
    "using System.IO;\n",
    "using Newtonsoft.Json;\n",
    "using Azure.AI.OpenAI;\n",
    "using Microsoft.Azure.Cosmos;\n",
    "using Microsoft.Azure.Cosmos.Fluent;\n",
    "using Microsoft.Azure.Cosmos.Serialization.HybridRow.Schemas;\n",
    "using System.Collections.ObjectModel;\n",
    "using System.ComponentModel;\n",
    "using System.Diagnostics;\n",
    "using Container = Microsoft.Azure.Cosmos.Container;\n",
    "using PartitionKey = Microsoft.Azure.Cosmos.PartitionKey;\n",
    "using Azure;\n",
    "using Azure.Core;\n",
    "\n",
    "\n",
    "List<Recipe> recipes = new List<Recipe>();\n",
    "\n",
    "Directory.GetFiles(\"../recipes\").ToList().ForEach(f =>\n",
    "    {\n",
    "        var jsonString= System.IO.File.ReadAllText(f);\n",
    "        Recipe recipe = JsonConvert.DeserializeObject<Recipe>(jsonString);\n",
    "        recipe.id = recipe.name.ToLower().Replace(\" \",\"\");\n",
    "        recipes.Add(recipe);\n",
    "\n",
    "    }\n",
    ");\n",
    "\n",
    "\n",
    "foreach (Recipe recipe in recipes)\n",
    "{\n",
    "    Console.WriteLine(recipe.toString());\n",
    "    EmbeddingsOptions embeddingsOptions = new()\n",
    "    {\n",
    "        DeploymentName = \"text-embedding-ada-002\",\n",
    "        Input = { JsonConvert.SerializeObject(recipe) }\n",
    "    };\n",
    "\n",
    "    \n",
    "    var response = await openAIClient.GetEmbeddingsAsync(embeddingsOptions);\n",
    "    Embeddings embeddings = response.Value;\n",
    "    float[] embedding = embeddings.Data[0].Embedding.ToArray();\n",
    "    recipe.vectors = embedding.ToList<float>();\n",
    "    \n",
    "    container.UpsertItemAsync(recipe, new PartitionKey(recipe.id)).Wait();\n",
    "    \n",
    "}\n"
   ]
  },
  {
   "cell_type": "markdown",
   "metadata": {},
   "source": [
    "### RAG (Retrieval-augmented generation)\n",
    "#### Busca no CosmosDB pelo Vector Search"
   ]
  },
  {
   "cell_type": "code",
   "execution_count": null,
   "metadata": {
    "polyglot_notebook": {
     "kernelName": "csharp"
    },
    "vscode": {
     "languageId": "polyglot-notebook"
    }
   },
   "outputs": [],
   "source": [
    "var userPrompt = \"You serve Latin food?\";\n",
    "//userPrompt = \"Do you know how to make hamburger?\";\n",
    "//userPrompt = \"You serve spicy food\";\n",
    "\n",
    "var similarityScore = 0.70;\n",
    "\n",
    "EmbeddingsOptions embeddingsOptions = new()\n",
    "{\n",
    "    DeploymentName = \"text-embedding-ada-002\",\n",
    "    Input = {userPrompt}\n",
    "};\n",
    "\n",
    "var vectors = await openAIClient.GetEmbeddingsAsync(embeddingsOptions);\n",
    "\n",
    "Embeddings embeddings = vectors.Value;\n",
    "float[] embedding = embeddings.Data[0].Embedding.ToArray();\n",
    "\n",
    "\n",
    "string queryText = @\"SELECT Top 3 c.name,c.description, c.ingredients, c.cuisine, c.difficulty, c.prepTime, c.cookTime, c.totalTime, c.servings,\n",
    "                        VectorDistance(c.vectors, @vectors) AS SimilarityScore\n",
    "                        FROM c\n",
    "                        WHERE VectorDistance(c.vectors, @vectors) > @similarityScore \n",
    "                        ORDER BY VectorDistance(c.vectors, @vectors)\";\n",
    "\n",
    "var queryDef = new QueryDefinition(\n",
    "        query: queryText)\n",
    "    .WithParameter(\"@vectors\", embedding.ToList<float>())\n",
    "    .WithParameter(\"@similarityScore\", similarityScore);\n",
    "\n",
    "FeedIterator<Recipe> resultSet = container.GetItemQueryIterator<Recipe>(queryDefinition: queryDef);\n",
    "\n",
    "List<Recipe> recipes = new List<Recipe>();\n",
    "while (resultSet.HasMoreResults)\n",
    "{\n",
    "    FeedResponse<Recipe> response = await resultSet.ReadNextAsync();\n",
    "    recipes.AddRange(response);\n",
    "}\n",
    "\n",
    "recipes.ForEach(recipe => Console.WriteLine($\"Name: {recipe.name}, SimilarityScore: {recipe.SimilarityScore}\"));\n"
   ]
  },
  {
   "cell_type": "markdown",
   "metadata": {},
   "source": [
    "#### Chamada para o CHATGPT 3.5 incluindo os documentos encontrados no Azure CosmosDB no contexto"
   ]
  },
  {
   "cell_type": "code",
   "execution_count": null,
   "metadata": {
    "polyglot_notebook": {
     "kernelName": "csharp"
    },
    "vscode": {
     "languageId": "polyglot-notebook"
    }
   },
   "outputs": [],
   "source": [
    "string _systemPromptRecipeAssistant = @\"\n",
    "        You are an intelligent assistant for Contoso Recipes. \n",
    "        You are designed to provide helpful answers to user questions about \n",
    "        recipes, cooking instructions provided in JSON format below.\n",
    "  \n",
    "        Instructions:\n",
    "        - Only answer questions related to the recipe provided below,\n",
    "        - Don't reference any recipe not provided below.\n",
    "        - If you're unsure of an answer, you can say \"\"I don't know\"\" or \"\"I'm not sure\"\" and recommend users search themselves.        \n",
    "        - Your response  should be complete. \n",
    "        - List the Name of the Recipe at the start of your response folowed by step by step cooking instructions\n",
    "        - Assume the user is not an expert in cooking.\n",
    "        - Format the content so that it can be printed to the Command Line console;\n",
    "        - In case there are more than one recipes you find let the user pick the most appropiate recipe.\";\n",
    "\n",
    "var documents = JsonConvert.SerializeObject(recipes);\n",
    "var systemMessage = new ChatRequestSystemMessage(_systemPromptRecipeAssistant + documents);\n",
    "var userMessage = new ChatRequestUserMessage(userPrompt);\n",
    "int _openAIMaxTokens = 100;\n",
    "\n",
    "ChatCompletionsOptions options = new()\n",
    "{\n",
    "    DeploymentName= \"gpt-35-turbo\",\n",
    "    Messages =\n",
    "    {\n",
    "        systemMessage,\n",
    "        userMessage\n",
    "    },\n",
    "    MaxTokens = _openAIMaxTokens,\n",
    "    Temperature = 0.5f, //0.3f,\n",
    "    NucleusSamplingFactor = 0.95f, \n",
    "    FrequencyPenalty = 0,\n",
    "    PresencePenalty = 0\n",
    "};\n",
    "\n",
    "Azure.Response<ChatCompletions> completionsResponse = await openAIClient.GetChatCompletionsAsync(options);\n",
    "\n",
    "ChatCompletions completions = completionsResponse.Value;\n",
    "\n",
    "Console.WriteLine($\"Resposta: {completions.Choices[0].Message.Content}\");\n",
    "Console.WriteLine($\"PromptTokens: {completions.Usage.PromptTokens}\");\n",
    "Console.WriteLine($\"CompletionTokens: {completions.Usage.CompletionTokens}\");\n"
   ]
  }
 ],
 "metadata": {
  "kernelspec": {
   "display_name": ".NET (C#)",
   "language": "C#",
   "name": ".net-csharp"
  },
  "language_info": {
   "file_extension": ".cs",
   "mimetype": "text/x-csharp",
   "name": "C#",
   "pygments_lexer": "csharp",
   "version": "13.0"
  },
  "polyglot_notebook": {
   "kernelInfo": {
    "defaultKernelName": "csharp",
    "items": [
     {
      "aliases": [],
      "name": "csharp"
     }
    ]
   }
  }
 },
 "nbformat": 4,
 "nbformat_minor": 2
}
